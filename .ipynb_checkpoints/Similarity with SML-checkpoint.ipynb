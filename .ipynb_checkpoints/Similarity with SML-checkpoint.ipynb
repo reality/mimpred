{
 "cells": [
  {
   "cell_type": "code",
   "execution_count": null,
   "metadata": {},
   "outputs": [],
   "source": [
    "import os"
   ]
  },
  {
   "cell_type": "markdown",
   "metadata": {},
   "source": [
    "## Running Semantic Measures Library in the command line"
   ]
  },
  {
   "cell_type": "markdown",
   "metadata": {},
   "source": [
    "This requires up-to-date [Java](https://www.java.com/en/) and the following should be available in the main project directory:\n",
    "- SML toolkit (.jar) available to download [here](https://www.semantic-measures-library.org/sml/index.php?q=downloads)\n",
    "- Human Phenotype Ontology (OBO format), download using cell below\n",
    "- 'GenerateXML' directory containing file requirements"
   ]
  },
  {
   "cell_type": "code",
   "execution_count": null,
   "metadata": {},
   "outputs": [],
   "source": [
    "%%bash\n",
    "# download the hp OBO file in command line (written for Windows)\n",
    "\n",
    "curl http://purl.obolibrary.org/obo/hp.obo -O hp.obo"
   ]
  },
  {
   "cell_type": "code",
   "execution_count": null,
   "metadata": {},
   "outputs": [],
   "source": [
    "# create results directory to store output scores files\n",
    "\n",
    "if not os.path.exists('Results'):\n",
    "    os.makedirs('Results')"
   ]
  },
  {
   "cell_type": "markdown",
   "metadata": {},
   "source": [
    "Once we have run the 'Generate XML configuration' notebook and written all available metrics into the XMLs, run this java command in the command line for each XML file (changing the SML version if necessary):"
   ]
  },
  {
   "cell_type": "code",
   "execution_count": null,
   "metadata": {},
   "outputs": [],
   "source": [
    "# run this command with all XML files generated inside 'GenerateXML' directory\n",
    "\n",
    "java -jar sml-toolkit-0.9.4c.jar -t sm -xmlconf GenerateXML/DIRECT_GROUPWISE_MEASURES_COMBINATIONS.xml\n",
    "\n",
    "# note that the following two files will run much slower due to greater number of metric combinations\n",
    "java -jar sml-toolkit-0.9.4c.jar -t sm -xmlconf GenerateXML/IC_INDIRECT_GROUPWISE_MEASURES_COMBINATIONS.xml\n",
    "java -jar sml-toolkit-0.9.4c.jar -t sm -xmlconf GenerateXML/INDIRECT_GROUPWISE_MEASURES_COMBINATIONS.xml"
   ]
  }
 ],
 "metadata": {
  "kernelspec": {
   "display_name": "Python 3",
   "language": "python",
   "name": "python3"
  },
  "language_info": {
   "codemirror_mode": {
    "name": "ipython",
    "version": 3
   },
   "file_extension": ".py",
   "mimetype": "text/x-python",
   "name": "python",
   "nbconvert_exporter": "python",
   "pygments_lexer": "ipython3",
   "version": "3.8.6"
  }
 },
 "nbformat": 4,
 "nbformat_minor": 4
}

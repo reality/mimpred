{
 "cells": [
  {
   "cell_type": "markdown",
   "metadata": {},
   "source": [
    "## Imports "
   ]
  },
  {
   "cell_type": "code",
   "execution_count": null,
   "metadata": {},
   "outputs": [],
   "source": [
    "import sys\n",
    "!{sys.executable} -m pip install numpy\n",
    "!{sys.executable} -m pip install pandas"
   ]
  },
  {
   "cell_type": "code",
   "execution_count": null,
   "metadata": {},
   "outputs": [],
   "source": [
    "import pandas as pd\n",
    "import numpy as np\n",
    "import os\n",
    "import random\n",
    "import gzip\n",
    "import shutil"
   ]
  },
  {
   "cell_type": "markdown",
   "metadata": {},
   "source": [
    "Install komenti (note that java is required for komenti to run)."
   ]
  },
  {
   "cell_type": "code",
   "execution_count": null,
   "metadata": {},
   "outputs": [],
   "source": [
    "%%bash\n",
    "if ! test -f \"komenti/bin/komenti\"; then\n",
    "  if ! test -f \"komenti-0.2.0-SNAPSHOT.zip\"; then\n",
    "    echo 'downloading komenti'\n",
    "    wget https://github.com/reality/komenti/releases/download/0.2.0-SNAPSHOT-1/komenti-0.2.0-SNAPSHOT.zip\n",
    "  fi\n",
    "  echo 'extracting komenti'\n",
    "  unzip komenti-0.2.0-SNAPSHOT.zip\n",
    "  mv komenti-0.2.0-SNAPSHOT komenti\n",
    "fi\n"
   ]
  },
  {
   "cell_type": "markdown",
   "metadata": {},
   "source": [
    "Test komenti for errors:"
   ]
  },
  {
   "cell_type": "code",
   "execution_count": null,
   "metadata": {
    "scrolled": true
   },
   "outputs": [],
   "source": [
    "%%bash\n",
    "komenti/bin/komenti query -q test"
   ]
  },
  {
   "cell_type": "markdown",
   "metadata": {},
   "source": [
    "# Download 'NOTEEVENTS' and 'DIAGNOSES_ICD' from MIMIC-III database\n"
   ]
  },
  {
   "cell_type": "code",
   "execution_count": null,
   "metadata": {},
   "outputs": [],
   "source": [
    "# directory to contain MIMIC-III files \n",
    "if not os.path.exists('MIMIC_data'):\n",
    "    os.makedirs('MIMIC_data')"
   ]
  },
  {
   "cell_type": "markdown",
   "metadata": {},
   "source": [
    "All MIMIC zip files should be downloaded from the [website](https://physionet.org/content/mimiciii/1.4/) and stored in the 'MIMIC_data' directory. "
   ]
  },
  {
   "cell_type": "code",
   "execution_count": null,
   "metadata": {},
   "outputs": [],
   "source": [
    "# check current directory for DIAGNOSES_ICD and NOTEEVENTS\n",
    "os.listdir('MIMIC_data')"
   ]
  },
  {
   "cell_type": "code",
   "execution_count": null,
   "metadata": {},
   "outputs": [],
   "source": [
    "with gzip.open('MIMIC_data/DIAGNOSES_ICD.csv.gz') as g:\n",
    "    D_df = pd.read_csv(g)"
   ]
  },
  {
   "cell_type": "code",
   "execution_count": null,
   "metadata": {},
   "outputs": [],
   "source": [
    "with gzip.open('MIMIC_data/NOTEEVENTS.csv.gz') as f:\n",
    "    NE_df = pd.read_csv(f)"
   ]
  },
  {
   "cell_type": "markdown",
   "metadata": {},
   "source": [
    "## Tidy up diagnoses"
   ]
  },
  {
   "cell_type": "code",
   "execution_count": null,
   "metadata": {},
   "outputs": [],
   "source": [
    "# keep only primary diagnoses (SEQ_NUM = 1.0) so that there is only one entry per patient \n",
    "\n",
    "D_df_tidy = D_df.loc[(D_df['SEQ_NUM']==1.0),]\n",
    "\n",
    "D_df_tidy.head()"
   ]
  },
  {
   "cell_type": "markdown",
   "metadata": {},
   "source": [
    "## Sample of 1000 admissions "
   ]
  },
  {
   "cell_type": "markdown",
   "metadata": {},
   "source": [
    "#### Use pre-determined list of patients to reproduce results directly \n",
    "\n",
    "Using 'row_ids.txt' file to reproduce the sample used to generate these results."
   ]
  },
  {
   "cell_type": "code",
   "execution_count": null,
   "metadata": {},
   "outputs": [],
   "source": [
    "# to avoid running the slow sampling step and to reproduce our results, use the \n",
    "# file 'row_ids.txt' to choose the same sample of 1000\n",
    "\n",
    "# read in the predetermined sample row ids\n",
    "\n",
    "row_ids = pd.read_table('row_ids.txt', header=None, index_col=0)\n",
    "rows_list = row_ids.index.tolist()\n",
    "\n",
    "sample_id = D_df_tidy.loc[rows_list,'HADM_ID'].tolist()"
   ]
  },
  {
   "cell_type": "code",
   "execution_count": null,
   "metadata": {},
   "outputs": [],
   "source": [
    "sample_id[0:10]"
   ]
  },
  {
   "cell_type": "markdown",
   "metadata": {},
   "source": [
    "#### Or run this and produce your own sample of 1000 patients"
   ]
  },
  {
   "cell_type": "code",
   "execution_count": null,
   "metadata": {},
   "outputs": [],
   "source": [
    "# set seed ?\n",
    "random.seed(30)\n",
    "\n",
    "## slow running step\n",
    "# select 1000 random, unique admissions \n",
    "\n",
    "sample_id = []\n",
    "\n",
    "while len(set(sample_id)) < 1000 :\n",
    "    \n",
    "    i = D_df_tidy.sample(n=1, replace=False, random_state=30).index\n",
    "     \n",
    "    # only sample this patient if they exist in NOTEEVENTS and have notes associated\n",
    "    if i.isin(NE_df['HADM_ID']) and len(NE_df.loc[(NE_df['HADM_ID'] == i), :]) != 0:\n",
    "        \n",
    "        if not i.isin(sample_id):\n",
    "            \n",
    "            sample_id.append(D_df_tidy.loc[i[0], 'HADM_ID'])\n"
   ]
  },
  {
   "cell_type": "markdown",
   "metadata": {},
   "source": [
    "## Extract and save text for sample patients "
   ]
  },
  {
   "cell_type": "markdown",
   "metadata": {},
   "source": [
    "Create a directory and write the concatenated text for each patient, in files named by admission ID, into it."
   ]
  },
  {
   "cell_type": "code",
   "execution_count": null,
   "metadata": {},
   "outputs": [],
   "source": [
    "# if you are running the sampling multiple times ensure to delete the existing text files \n",
    "# and repopulate with new sample  \n",
    "\n",
    "if os.path.exists('TextFiles'):\n",
    "    shutil.rmtree('TextFiles')"
   ]
  },
  {
   "cell_type": "code",
   "execution_count": null,
   "metadata": {},
   "outputs": [],
   "source": [
    "# create directory for storing text files\n",
    "\n",
    "if not os.path.exists('TextFiles'):\n",
    "    os.makedirs('TextFiles')"
   ]
  },
  {
   "cell_type": "code",
   "execution_count": null,
   "metadata": {},
   "outputs": [],
   "source": [
    "# for each patient in sample, colect text and write into a .txt file inside TextFiles directory \n",
    "\n",
    "path = os.getcwd()\n",
    "\n",
    "for id in sample_id:\n",
    "    outfile = path + '/TextFiles/' + \"text_{}.txt\".format(id)\n",
    "    \n",
    "    file = open(outfile,\"a+\")\n",
    "    \n",
    "    text = NE_df.loc[NE_df['HADM_ID'] == id,'TEXT'] \n",
    "    \n",
    "    for i in text:\n",
    "        file.write(i) \n",
    "    \n",
    "    file.close() "
   ]
  },
  {
   "cell_type": "markdown",
   "metadata": {},
   "source": [
    "## Apply Komenti annotation to the text"
   ]
  },
  {
   "cell_type": "code",
   "execution_count": null,
   "metadata": {},
   "outputs": [],
   "source": [
    "# make directory for storing the annotations\n",
    "\n",
    "if not os.path.exists('AnnotationFiles'):\n",
    "    os.makedirs('AnnotationFiles')"
   ]
  },
  {
   "cell_type": "markdown",
   "metadata": {},
   "source": [
    "Load in the HPO ontology terms to the working directory:"
   ]
  },
  {
   "cell_type": "code",
   "execution_count": null,
   "metadata": {},
   "outputs": [],
   "source": [
    "%%bash\n",
    "\n",
    "wget https://raw.githubusercontent.com/reality/synonym_expansion_validation/master/hpo/unexpanded_all.txt\n"
   ]
  },
  {
   "cell_type": "markdown",
   "metadata": {},
   "source": [
    "Annotate the text files with komenti, using the HPO terms in the 'unexpanded_all.txt' file downloaded. This will produce a single file ('annotations.txt') comprising all patients in the sample. "
   ]
  },
  {
   "cell_type": "code",
   "execution_count": null,
   "metadata": {},
   "outputs": [],
   "source": [
    "%%bash\n",
    "komenti/bin/komenti annotate -l unexpanded_all.txt -t TextFiles/ --out AnnotationFiles/annotations.txt  --threads 40 --verbose\n"
   ]
  }
 ],
 "metadata": {
  "kernelspec": {
   "display_name": "Python 3",
   "language": "python",
   "name": "python3"
  },
  "language_info": {
   "codemirror_mode": {
    "name": "ipython",
    "version": 3
   },
   "file_extension": ".py",
   "mimetype": "text/x-python",
   "name": "python",
   "nbconvert_exporter": "python",
   "pygments_lexer": "ipython3",
   "version": "3.8.6"
  }
 },
 "nbformat": 4,
 "nbformat_minor": 4
}

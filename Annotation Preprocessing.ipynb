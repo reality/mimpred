{
 "cells": [
  {
   "cell_type": "code",
   "execution_count": 1,
   "metadata": {},
   "outputs": [],
   "source": [
    "import pandas as pd\n",
    "import numpy as np\n",
    "import re\n",
    "import csv\n",
    "import random"
   ]
  },
  {
   "cell_type": "markdown",
   "metadata": {},
   "source": [
    "## Open annotations file "
   ]
  },
  {
   "cell_type": "markdown",
   "metadata": {},
   "source": [
    "Open the 'annotations.txt' file and read in any lines starting with 'text_' as this indicates a line with phenotypes for the patients' text file of notes. Then read character 6 onwards to get patient ID at the start of each line (cutting off 'text_')."
   ]
  },
  {
   "cell_type": "code",
   "execution_count": 2,
   "metadata": {},
   "outputs": [],
   "source": [
    "random.seed(5)"
   ]
  },
  {
   "cell_type": "code",
   "execution_count": 3,
   "metadata": {},
   "outputs": [],
   "source": [
    "with open(\"annotations.txt\",\"r\") as f:\n",
    "    annotations = []\n",
    "    for ln in f:\n",
    "        if ln.startswith(\"text_\"):\n",
    "            annotations.append(ln[5:])\n"
   ]
  },
  {
   "cell_type": "markdown",
   "metadata": {},
   "source": [
    "## Cleaning "
   ]
  },
  {
   "cell_type": "code",
   "execution_count": 4,
   "metadata": {},
   "outputs": [],
   "source": [
    "pheno = [] # will fill nested list with the information from each line in the file\n",
    "\n",
    "for ln in range(len(annotations)):\n",
    "        \n",
    "    line = re.split(r'\\t+', annotations[ln]) # split lines by \\t delimiter\n",
    "    \n",
    "    line_strip = [] \n",
    "        \n",
    "    for i in line:         \n",
    "        # strip away unwanted characters that got retained when reading in the file         \n",
    "        strip1 = i.strip('.txt')\n",
    "        strip2 = strip1.strip('http://purl.obolibrary.org/obo/')\n",
    "        strip = strip2.strip('\\n')        \n",
    "        line_strip.append(strip) \n",
    "        \n",
    "    pheno.append(line_strip) # each list is one line from the file\n",
    "    \n",
    "\n",
    "for i in pheno:\n",
    "    \n",
    "    if len(i) != 8:\n",
    "        \n",
    "        i.insert(5, 'NA') \n",
    "        # ensure all lines have the same number of entries; position 6\n",
    "        # is variably filled so if not, add in 'NA'\n",
    "        "
   ]
  },
  {
   "cell_type": "markdown",
   "metadata": {},
   "source": [
    "## Formatting "
   ]
  },
  {
   "cell_type": "code",
   "execution_count": 5,
   "metadata": {},
   "outputs": [],
   "source": [
    "annotations_df = pd.DataFrame(pheno) # create dataframe from pheno \n",
    "\n",
    "phenotypes = annotations_df.iloc[:,0:2] # get first 3 columns (patient ID and Human Phenotype Ontology (HP) ID)\n",
    "\n",
    "phenotypes = phenotypes.set_axis(['Patient_ID', 'HP_ID'], axis=1, inplace=False) # set column names for use later\n"
   ]
  },
  {
   "cell_type": "code",
   "execution_count": 6,
   "metadata": {},
   "outputs": [
    {
     "data": {
      "text/html": [
       "<div>\n",
       "<style scoped>\n",
       "    .dataframe tbody tr th:only-of-type {\n",
       "        vertical-align: middle;\n",
       "    }\n",
       "\n",
       "    .dataframe tbody tr th {\n",
       "        vertical-align: top;\n",
       "    }\n",
       "\n",
       "    .dataframe thead th {\n",
       "        text-align: right;\n",
       "    }\n",
       "</style>\n",
       "<table border=\"1\" class=\"dataframe\">\n",
       "  <thead>\n",
       "    <tr style=\"text-align: right;\">\n",
       "      <th></th>\n",
       "      <th>Patient_ID</th>\n",
       "      <th>HP_ID</th>\n",
       "    </tr>\n",
       "  </thead>\n",
       "  <tbody>\n",
       "    <tr>\n",
       "      <th>0</th>\n",
       "      <td>183903</td>\n",
       "      <td>HP_0100806</td>\n",
       "    </tr>\n",
       "    <tr>\n",
       "      <th>1</th>\n",
       "      <td>183903</td>\n",
       "      <td>HP_0012531</td>\n",
       "    </tr>\n",
       "    <tr>\n",
       "      <th>2</th>\n",
       "      <td>183903</td>\n",
       "      <td>HP_0012420</td>\n",
       "    </tr>\n",
       "    <tr>\n",
       "      <th>3</th>\n",
       "      <td>183903</td>\n",
       "      <td>HP_0001945</td>\n",
       "    </tr>\n",
       "    <tr>\n",
       "      <th>4</th>\n",
       "      <td>183903</td>\n",
       "      <td>HP_0002098</td>\n",
       "    </tr>\n",
       "  </tbody>\n",
       "</table>\n",
       "</div>"
      ],
      "text/plain": [
       "  Patient_ID       HP_ID\n",
       "0     183903  HP_0100806\n",
       "1     183903  HP_0012531\n",
       "2     183903  HP_0012420\n",
       "3     183903  HP_0001945\n",
       "4     183903  HP_0002098"
      ]
     },
     "execution_count": 6,
     "metadata": {},
     "output_type": "execute_result"
    }
   ],
   "source": [
    "phenotypes.head()"
   ]
  },
  {
   "cell_type": "code",
   "execution_count": 7,
   "metadata": {},
   "outputs": [],
   "source": [
    "for i in range(len(phenotypes.index)):\n",
    "    \n",
    "    replace = phenotypes.loc[i,'HP_ID'].replace('_', ':') # format to HP:0100806 ...\n",
    "    \n",
    "    phenotypes.loc[i,'HP_ID'] = replace\n",
    "\n",
    "phenotypes = phenotypes.set_index(phenotypes.loc[:,'Patient_ID'], drop=True)\n",
    "\n",
    "# iterate through the unique patient IDs in the index of phenotypes dataframe \n",
    "# saving each set of HP IDs for that patient and formatting to a ; delimited list in new dataframe \n",
    "\n",
    "phenos = pd.DataFrame(columns= ['Patient_ID', 'HP_IDs']) # new dataframe for cleaned IDs \n",
    "\n",
    "for i in set(phenotypes.index.tolist()):\n",
    "    \n",
    "    l = phenotypes.loc[i, 'HP_ID']\n",
    "    \n",
    "    if isinstance(l, str):\n",
    "        s = str(l)\n",
    "    else:\n",
    "        s = str(l.tolist())\n",
    "    \n",
    "    s = s.replace(',', ';')\n",
    "    s = s.replace('[', '')\n",
    "    s = s.replace(']', '')\n",
    "    s = s.replace(\"'\", '')\n",
    "    s = s.replace(' ', '')\n",
    "\n",
    "    phenos.append({'Patient_ID': i}, ignore_index=True)\n",
    "    phenos.loc[i, 'Patient_ID'] = i\n",
    "    phenos.loc[i, 'HP_IDs'] = s\n",
    "    \n",
    "    "
   ]
  },
  {
   "cell_type": "code",
   "execution_count": 8,
   "metadata": {},
   "outputs": [
    {
     "data": {
      "text/plain": [
       "(985, 2)"
      ]
     },
     "execution_count": 8,
     "metadata": {},
     "output_type": "execute_result"
    }
   ],
   "source": [
    "phenos.shape\n",
    "\n",
    "# at this point there is only 985 patients in the samples, not 1000\n",
    "# probably due to file reading at the start"
   ]
  },
  {
   "cell_type": "code",
   "execution_count": 9,
   "metadata": {},
   "outputs": [
    {
     "data": {
      "text/html": [
       "<div>\n",
       "<style scoped>\n",
       "    .dataframe tbody tr th:only-of-type {\n",
       "        vertical-align: middle;\n",
       "    }\n",
       "\n",
       "    .dataframe tbody tr th {\n",
       "        vertical-align: top;\n",
       "    }\n",
       "\n",
       "    .dataframe thead th {\n",
       "        text-align: right;\n",
       "    }\n",
       "</style>\n",
       "<table border=\"1\" class=\"dataframe\">\n",
       "  <thead>\n",
       "    <tr style=\"text-align: right;\">\n",
       "      <th></th>\n",
       "      <th>Patient_ID</th>\n",
       "      <th>HP_IDs</th>\n",
       "    </tr>\n",
       "  </thead>\n",
       "  <tbody>\n",
       "    <tr>\n",
       "      <th>168392</th>\n",
       "      <td>168392</td>\n",
       "      <td>HP:0002090;HP:0000822;HP:0001041;HP:0000969;HP...</td>\n",
       "    </tr>\n",
       "    <tr>\n",
       "      <th>129887</th>\n",
       "      <td>129887</td>\n",
       "      <td>HP:0000819;HP:0002617;HP:0025143;HP:0002018;HP...</td>\n",
       "    </tr>\n",
       "    <tr>\n",
       "      <th>193341</th>\n",
       "      <td>193341</td>\n",
       "      <td>HP:0012115;HP:0030245;HP:0100806;HP:0001433;HP...</td>\n",
       "    </tr>\n",
       "    <tr>\n",
       "      <th>150333</th>\n",
       "      <td>150333</td>\n",
       "      <td>HP:0002027;HP:0002018;HP:0002013;HP:0001394;HP...</td>\n",
       "    </tr>\n",
       "    <tr>\n",
       "      <th>187245</th>\n",
       "      <td>187245</td>\n",
       "      <td>HP:0002094;HP:0012531;HP:0002094;HP:0001649;HP...</td>\n",
       "    </tr>\n",
       "  </tbody>\n",
       "</table>\n",
       "</div>"
      ],
      "text/plain": [
       "       Patient_ID                                             HP_IDs\n",
       "168392     168392  HP:0002090;HP:0000822;HP:0001041;HP:0000969;HP...\n",
       "129887     129887  HP:0000819;HP:0002617;HP:0025143;HP:0002018;HP...\n",
       "193341     193341  HP:0012115;HP:0030245;HP:0100806;HP:0001433;HP...\n",
       "150333     150333  HP:0002027;HP:0002018;HP:0002013;HP:0001394;HP...\n",
       "187245     187245  HP:0002094;HP:0012531;HP:0002094;HP:0001649;HP..."
      ]
     },
     "execution_count": 9,
     "metadata": {},
     "output_type": "execute_result"
    }
   ],
   "source": [
    "phenos.head()"
   ]
  },
  {
   "cell_type": "code",
   "execution_count": 10,
   "metadata": {},
   "outputs": [],
   "source": [
    "# tidy up dataframe; set index as patient IDs and drop this column\n",
    "\n",
    "phenos.set_index(phenos.loc[:,'Patient_ID'], drop=True) \n",
    "phenos = phenos.drop('Patient_ID', axis=1)"
   ]
  },
  {
   "cell_type": "markdown",
   "metadata": {},
   "source": [
    "### Save as tab delimited file"
   ]
  },
  {
   "cell_type": "markdown",
   "metadata": {},
   "source": [
    "This should be in the right format for semantic measures library https://www.semantic-measures-library.org/sml/index.php?q=toolkit "
   ]
  },
  {
   "cell_type": "code",
   "execution_count": 11,
   "metadata": {},
   "outputs": [],
   "source": [
    "# all patients in sample\n",
    "\n",
    "phenos.to_csv('annotated_phenotypes.tsv', sep='\\t', header=False)"
   ]
  },
  {
   "cell_type": "code",
   "execution_count": 12,
   "metadata": {},
   "outputs": [],
   "source": [
    "# first 10 for practice \n",
    "\n",
    "phenos.iloc[0:10,:].to_csv('ten_annotated_phenotypes.tsv', sep='\\t', header=False)"
   ]
  },
  {
   "cell_type": "markdown",
   "metadata": {},
   "source": [
    "## Generate patient pairs"
   ]
  },
  {
   "cell_type": "code",
   "execution_count": 13,
   "metadata": {},
   "outputs": [],
   "source": [
    "import itertools"
   ]
  },
  {
   "cell_type": "markdown",
   "metadata": {},
   "source": [
    "### For sample of 10"
   ]
  },
  {
   "cell_type": "code",
   "execution_count": 14,
   "metadata": {},
   "outputs": [],
   "source": [
    "ten_patients = phenos.iloc[0:10,:]"
   ]
  },
  {
   "cell_type": "code",
   "execution_count": 15,
   "metadata": {},
   "outputs": [],
   "source": [
    "def pairs_from_dataframe(dataframe):\n",
    "    \n",
    "    ids = dataframe.index.tolist()\n",
    "    \n",
    "    pairs = list(itertools.combinations(ids, 2))\n",
    "    \n",
    "    pairs_df = pd.DataFrame.from_records(pairs)\n",
    "    \n",
    "    pairs_df = pairs_df.set_index(pairs_df.iloc[:,0], drop=True)\n",
    "    \n",
    "    pairs_df = pairs_df.drop(0, axis=1)\n",
    "    \n",
    "    return pairs_df"
   ]
  },
  {
   "cell_type": "code",
   "execution_count": 16,
   "metadata": {},
   "outputs": [],
   "source": [
    "ten_pairs_df = pairs_from_dataframe(ten_patients)"
   ]
  },
  {
   "cell_type": "code",
   "execution_count": 17,
   "metadata": {},
   "outputs": [],
   "source": [
    "ten_pairs_df.to_csv('ten_pairs.tsv', sep='\\t', header=False)"
   ]
  },
  {
   "cell_type": "markdown",
   "metadata": {},
   "source": [
    "### For all patients"
   ]
  },
  {
   "cell_type": "code",
   "execution_count": 18,
   "metadata": {},
   "outputs": [],
   "source": [
    "all_pairs_df = pairs_from_dataframe(phenos)"
   ]
  },
  {
   "cell_type": "code",
   "execution_count": 19,
   "metadata": {},
   "outputs": [
    {
     "data": {
      "text/plain": [
       "(484620, 1)"
      ]
     },
     "execution_count": 19,
     "metadata": {},
     "output_type": "execute_result"
    }
   ],
   "source": [
    "all_pairs_df.shape"
   ]
  },
  {
   "cell_type": "code",
   "execution_count": 20,
   "metadata": {},
   "outputs": [],
   "source": [
    "all_pairs_df.to_csv('all_pairs.tsv', sep='\\t', header=False)"
   ]
  },
  {
   "cell_type": "code",
   "execution_count": null,
   "metadata": {},
   "outputs": [],
   "source": []
  }
 ],
 "metadata": {
  "kernelspec": {
   "display_name": "Python 3",
   "language": "python",
   "name": "python3"
  },
  "language_info": {
   "codemirror_mode": {
    "name": "ipython",
    "version": 3
   },
   "file_extension": ".py",
   "mimetype": "text/x-python",
   "name": "python",
   "nbconvert_exporter": "python",
   "pygments_lexer": "ipython3",
   "version": "3.8.6"
  }
 },
 "nbformat": 4,
 "nbformat_minor": 4
}

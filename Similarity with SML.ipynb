{
 "cells": [
  {
   "cell_type": "markdown",
   "metadata": {},
   "source": [
    "## Running Semantic Measures Library in the command line"
   ]
  },
  {
   "cell_type": "markdown",
   "metadata": {},
   "source": [
    "This requires up-to-date [Java](https://www.java.com/en/) and the following should be available in the working directory:\n",
    "- SML toolkit (.jar) available to download [here](https://www.semantic-measures-library.org/sml/index.php?q=downloads)\n",
    "- Human Phenotype Ontology (OBO format), download using cell below\n",
    "- 'GenerateXML' directory "
   ]
  },
  {
   "cell_type": "code",
   "execution_count": null,
   "metadata": {},
   "outputs": [],
   "source": [
    "%%bash\n",
    "# download the hp OBO file in command line (windows)\n",
    "\n",
    "curl http://purl.obolibrary.org/obo/hp.obo -O hp.obo"
   ]
  },
  {
   "cell_type": "markdown",
   "metadata": {},
   "source": [
    "Once we have run the 'Generate XML configuration' notebook and written all available metrics into the XMLs, run this java command in the command line for each XML file (changing the SML version if necessary):"
   ]
  },
  {
   "cell_type": "code",
   "execution_count": null,
   "metadata": {},
   "outputs": [],
   "source": [
    "// run this command with all XML files generated inside 'GenerateXML' directory\n",
    "\n",
    "java -jar sml-toolkit-0.9.4c.jar -t sm -xmlconf GenerateXML/DIRECT_GROUPWISE_MEASURES_COMBINATIONS.xml\n",
    "\n",
    "// note that the following two files will run much slower due to greater number of metric combinations\n",
    "java -jar sml-toolkit-0.9.4c.jar -t sm -xmlconf GenerateXML/IC_INDIRECT_GROUPWISE_MEASURES_COMBINATIONS.xml\n",
    "java -jar sml-toolkit-0.9.4c.jar -t sm -xmlconf GenerateXML/INDIRECT_GROUPWISE_MEASURES_COMBINATIONS.xml"
   ]
  }
 ],
 "metadata": {
  "kernelspec": {
   "display_name": "SciJava",
   "language": "groovy",
   "name": "scijava"
  },
  "language_info": {
   "codemirror_mode": "groovy",
   "file_extension": "",
   "mimetype": "",
   "name": "scijava",
   "nbconverter_exporter": "",
   "pygments_lexer": "groovy",
   "version": "1.0"
  }
 },
 "nbformat": 4,
 "nbformat_minor": 4
}

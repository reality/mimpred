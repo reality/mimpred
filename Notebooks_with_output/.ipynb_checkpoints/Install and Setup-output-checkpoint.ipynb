{
 "cells": [
  {
   "cell_type": "markdown",
   "metadata": {},
   "source": [
    "## Imports "
   ]
  },
  {
   "cell_type": "code",
   "execution_count": null,
   "metadata": {},
   "outputs": [],
   "source": [
    "import sys\n",
    "!{sys.executable} -m pip install numpy\n",
    "!{sys.executable} -m pip install pandas"
   ]
  },
  {
   "cell_type": "code",
   "execution_count": 13,
   "metadata": {},
   "outputs": [],
   "source": [
    "import pandas as pd\n",
    "import numpy as np\n",
    "import os\n",
    "import random\n",
    "import gzip\n",
    "import shutil"
   ]
  },
  {
   "cell_type": "markdown",
   "metadata": {},
   "source": [
    "Install komenti (note that java is required for komenti to run)."
   ]
  },
  {
   "cell_type": "code",
   "execution_count": null,
   "metadata": {},
   "outputs": [],
   "source": [
    "%%bash\n",
    "if ! test -f \"komenti/bin/komenti\"; then\n",
    "  if ! test -f \"komenti-0.2.0-SNAPSHOT.zip\"; then\n",
    "    echo 'downloading komenti'\n",
    "    wget https://github.com/reality/komenti/releases/download/0.2.0-SNAPSHOT-1/komenti-0.2.0-SNAPSHOT.zip\n",
    "  fi\n",
    "  echo 'extracting komenti'\n",
    "  unzip komenti-0.2.0-SNAPSHOT.zip\n",
    "  mv komenti-0.2.0-SNAPSHOT komenti\n",
    "fi\n"
   ]
  },
  {
   "cell_type": "markdown",
   "metadata": {},
   "source": [
    "Test komenti for errors:"
   ]
  },
  {
   "cell_type": "code",
   "execution_count": null,
   "metadata": {
    "scrolled": true
   },
   "outputs": [],
   "source": [
    "%%bash\n",
    "komenti/bin/komenti query -q test"
   ]
  },
  {
   "cell_type": "markdown",
   "metadata": {},
   "source": [
    "# Download 'NOTEEVENTS' and 'DIAGNOSES_ICD' from MIMIC-III database\n"
   ]
  },
  {
   "cell_type": "code",
   "execution_count": null,
   "metadata": {},
   "outputs": [],
   "source": [
    "# directory to contain MIMIC-III files \n",
    "if not os.path.exists('MIMIC_data'):\n",
    "    os.makedirs('MIMIC_data')"
   ]
  },
  {
   "cell_type": "markdown",
   "metadata": {},
   "source": [
    "All MIMIC zip files should be downloaded from the [website](https://physionet.org/content/mimiciii/1.4/) and stored in the 'MIMIC_data' directory. "
   ]
  },
  {
   "cell_type": "code",
   "execution_count": 14,
   "metadata": {},
   "outputs": [
    {
     "data": {
      "text/plain": [
       "['DIAGNOSES_ICD.csv.gz', 'NOTEEVENTS.csv.gz']"
      ]
     },
     "execution_count": 14,
     "metadata": {},
     "output_type": "execute_result"
    }
   ],
   "source": [
    "# check current directory for DIAGNOSES_ICD and NOTEEVENTS\n",
    "os.listdir('MIMIC_data')"
   ]
  },
  {
   "cell_type": "code",
   "execution_count": 15,
   "metadata": {},
   "outputs": [],
   "source": [
    "with gzip.open('MIMIC_data/DIAGNOSES_ICD.csv.gz') as g:\n",
    "    D_df = pd.read_csv(g)"
   ]
  },
  {
   "cell_type": "code",
   "execution_count": 16,
   "metadata": {},
   "outputs": [
    {
     "name": "stderr",
     "output_type": "stream",
     "text": [
      "C:\\Users\\sophi\\anaconda3\\envs\\python\\lib\\site-packages\\IPython\\core\\interactiveshell.py:3146: DtypeWarning: Columns (4,5) have mixed types.Specify dtype option on import or set low_memory=False.\n",
      "  has_raised = await self.run_ast_nodes(code_ast.body, cell_name,\n"
     ]
    }
   ],
   "source": [
    "with gzip.open('MIMIC_data/NOTEEVENTS.csv.gz') as f:\n",
    "    NE_df = pd.read_csv(f)"
   ]
  },
  {
   "cell_type": "markdown",
   "metadata": {},
   "source": [
    "## Tidy up diagnoses"
   ]
  },
  {
   "cell_type": "code",
   "execution_count": 17,
   "metadata": {},
   "outputs": [
    {
     "data": {
      "text/html": [
       "<div>\n",
       "<style scoped>\n",
       "    .dataframe tbody tr th:only-of-type {\n",
       "        vertical-align: middle;\n",
       "    }\n",
       "\n",
       "    .dataframe tbody tr th {\n",
       "        vertical-align: top;\n",
       "    }\n",
       "\n",
       "    .dataframe thead th {\n",
       "        text-align: right;\n",
       "    }\n",
       "</style>\n",
       "<table border=\"1\" class=\"dataframe\">\n",
       "  <thead>\n",
       "    <tr style=\"text-align: right;\">\n",
       "      <th></th>\n",
       "      <th>ROW_ID</th>\n",
       "      <th>SUBJECT_ID</th>\n",
       "      <th>HADM_ID</th>\n",
       "      <th>SEQ_NUM</th>\n",
       "      <th>ICD9_CODE</th>\n",
       "    </tr>\n",
       "  </thead>\n",
       "  <tbody>\n",
       "    <tr>\n",
       "      <th>0</th>\n",
       "      <td>1297</td>\n",
       "      <td>109</td>\n",
       "      <td>172335</td>\n",
       "      <td>1.0</td>\n",
       "      <td>40301</td>\n",
       "    </tr>\n",
       "    <tr>\n",
       "      <th>14</th>\n",
       "      <td>1311</td>\n",
       "      <td>109</td>\n",
       "      <td>173633</td>\n",
       "      <td>1.0</td>\n",
       "      <td>40301</td>\n",
       "    </tr>\n",
       "    <tr>\n",
       "      <th>28</th>\n",
       "      <td>1488</td>\n",
       "      <td>112</td>\n",
       "      <td>174105</td>\n",
       "      <td>1.0</td>\n",
       "      <td>53100</td>\n",
       "    </tr>\n",
       "    <tr>\n",
       "      <th>33</th>\n",
       "      <td>1493</td>\n",
       "      <td>113</td>\n",
       "      <td>109976</td>\n",
       "      <td>1.0</td>\n",
       "      <td>1915</td>\n",
       "    </tr>\n",
       "    <tr>\n",
       "      <th>36</th>\n",
       "      <td>1496</td>\n",
       "      <td>114</td>\n",
       "      <td>178393</td>\n",
       "      <td>1.0</td>\n",
       "      <td>41401</td>\n",
       "    </tr>\n",
       "  </tbody>\n",
       "</table>\n",
       "</div>"
      ],
      "text/plain": [
       "    ROW_ID  SUBJECT_ID  HADM_ID  SEQ_NUM ICD9_CODE\n",
       "0     1297         109   172335      1.0     40301\n",
       "14    1311         109   173633      1.0     40301\n",
       "28    1488         112   174105      1.0     53100\n",
       "33    1493         113   109976      1.0      1915\n",
       "36    1496         114   178393      1.0     41401"
      ]
     },
     "execution_count": 17,
     "metadata": {},
     "output_type": "execute_result"
    }
   ],
   "source": [
    "# keep only primary diagnoses (SEQ_NUM = 1.0) so that there is only one entry per patient \n",
    "\n",
    "D_df_tidy = D_df.loc[(D_df['SEQ_NUM']==1.0),]\n",
    "\n",
    "D_df_tidy.head()"
   ]
  },
  {
   "cell_type": "markdown",
   "metadata": {},
   "source": [
    "## Sample of 1000 admissions "
   ]
  },
  {
   "cell_type": "markdown",
   "metadata": {},
   "source": [
    "#### Use pre-determined list of patients to reproduce results directly \n",
    "\n",
    "Using 'row_ids.txt' file to reproduce the sample used to generate these results."
   ]
  },
  {
   "cell_type": "code",
   "execution_count": 18,
   "metadata": {},
   "outputs": [],
   "source": [
    "# to avoid running the slow sampling step and to reproduce our results, use the \n",
    "# file 'row_ids.txt' to choose the same sample of 1000\n",
    "\n",
    "# read in the predetermined sample row ids\n",
    "\n",
    "row_ids = pd.read_table('row_ids.txt', header=None, index_col=0)\n",
    "rows_list = row_ids.index.tolist()\n",
    "\n",
    "sample_id = D_df_tidy.loc[rows_list,'HADM_ID'].tolist()"
   ]
  },
  {
   "cell_type": "code",
   "execution_count": 20,
   "metadata": {},
   "outputs": [
    {
     "data": {
      "text/plain": [
       "[100006,\n",
       " 100020,\n",
       " 100046,\n",
       " 100052,\n",
       " 100162,\n",
       " 100192,\n",
       " 100220,\n",
       " 100303,\n",
       " 100589,\n",
       " 100658]"
      ]
     },
     "execution_count": 20,
     "metadata": {},
     "output_type": "execute_result"
    }
   ],
   "source": [
    "sample_id[0:10]"
   ]
  },
  {
   "cell_type": "markdown",
   "metadata": {},
   "source": [
    "#### Or run this and produce your own sample of 1000 patients"
   ]
  },
  {
   "cell_type": "code",
   "execution_count": null,
   "metadata": {},
   "outputs": [],
   "source": [
    "# set seed ?\n",
    "random.seed(30)\n",
    "\n",
    "## slow running step\n",
    "# select 1000 random, unique admissions \n",
    "\n",
    "sample_id = []\n",
    "\n",
    "while len(set(sample_id)) < 1000 :\n",
    "    \n",
    "    i = D_df_tidy.sample(n=1, replace=False, random_state=30).index\n",
    "     \n",
    "    # only sample this patient if they exist in NOTEEVENTS and have notes associated\n",
    "    if i.isin(NE_df['HADM_ID']) and len(NE_df.loc[(NE_df['HADM_ID'] == i), :]) != 0:\n",
    "        \n",
    "        if not i.isin(sample_id):\n",
    "            \n",
    "            sample_id.append(D_df_tidy.loc[i[0], 'HADM_ID'])\n"
   ]
  },
  {
   "cell_type": "markdown",
   "metadata": {},
   "source": [
    "## Extract and save text for sample patients "
   ]
  },
  {
   "cell_type": "markdown",
   "metadata": {},
   "source": [
    "Create a directory and write the concatenated text for each patient, in files named by admission ID, into it."
   ]
  },
  {
   "cell_type": "code",
   "execution_count": null,
   "metadata": {},
   "outputs": [],
   "source": [
    "# if you are running the sampling multiple times ensure to delete the existing text files \n",
    "# and repopulate with new sample  \n",
    "\n",
    "if os.path.exists('TextFiles'):\n",
    "    shutil.rmtree('TextFiles')"
   ]
  },
  {
   "cell_type": "code",
   "execution_count": null,
   "metadata": {},
   "outputs": [],
   "source": [
    "# create directory for storing text files\n",
    "\n",
    "if not os.path.exists('TextFiles'):\n",
    "    os.makedirs('TextFiles')"
   ]
  },
  {
   "cell_type": "code",
   "execution_count": null,
   "metadata": {},
   "outputs": [],
   "source": [
    "# for each patient in sample, colect text and write into a .txt file inside TextFiles directory \n",
    "\n",
    "path = os.getcwd()\n",
    "\n",
    "for id in sample_id:\n",
    "    outfile = path + '/TextFiles/' + \"text_{}.txt\".format(id)\n",
    "    \n",
    "    file = open(outfile,\"a+\")\n",
    "    \n",
    "    text = NE_df.loc[NE_df['HADM_ID'] == id,'TEXT'] \n",
    "    \n",
    "    for i in text:\n",
    "        file.write(i) \n",
    "    \n",
    "    file.close() "
   ]
  },
  {
   "cell_type": "markdown",
   "metadata": {},
   "source": [
    "## Apply Komenti annotation to the text"
   ]
  },
  {
   "cell_type": "code",
   "execution_count": null,
   "metadata": {},
   "outputs": [],
   "source": [
    "# make directory for storing the annotations\n",
    "\n",
    "if not os.path.exists('AnnotationFiles'):\n",
    "    os.makedirs('AnnotationFiles')"
   ]
  },
  {
   "cell_type": "markdown",
   "metadata": {},
   "source": [
    "Load in the HPO ontology terms to the working directory:"
   ]
  },
  {
   "cell_type": "code",
   "execution_count": null,
   "metadata": {},
   "outputs": [],
   "source": [
    "%%bash\n",
    "\n",
    "wget https://raw.githubusercontent.com/reality/synonym_expansion_validation/master/hpo/unexpanded_all.txt\n"
   ]
  },
  {
   "cell_type": "markdown",
   "metadata": {},
   "source": [
    "Annotate the text files with komenti, using the HPO terms in the 'unexpanded_all.txt' file downloaded. This will produce a single file ('annotations.txt') comprising all patients in the sample. "
   ]
  },
  {
   "cell_type": "code",
   "execution_count": null,
   "metadata": {},
   "outputs": [],
   "source": [
    "%%bash\n",
    "komenti/bin/komenti annotate -l unexpanded_all.txt -t TextFiles/ --out AnnotationFiles/annotations.txt  --threads 40 --verbose\n"
   ]
  }
 ],
 "metadata": {
  "kernelspec": {
   "display_name": "Python 3",
   "language": "python",
   "name": "python3"
  },
  "language_info": {
   "codemirror_mode": {
    "name": "ipython",
    "version": 3
   },
   "file_extension": ".py",
   "mimetype": "text/x-python",
   "name": "python",
   "nbconvert_exporter": "python",
   "pygments_lexer": "ipython3",
   "version": "3.8.6"
  }
 },
 "nbformat": 4,
 "nbformat_minor": 4
}

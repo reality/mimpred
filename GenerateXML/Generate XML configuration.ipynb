{
 "cells": [
  {
   "cell_type": "code",
   "execution_count": 1,
   "metadata": {},
   "outputs": [],
   "source": [
    "import csv\n",
    "import os\n",
    "import xml.etree.ElementTree as ET"
   ]
  },
  {
   "cell_type": "markdown",
   "metadata": {},
   "source": [
    "## Generating the XML files for all measures combinations \n",
    "\n",
    "Here we will use the file 'measures_revised.csv' which contains all similarity measures supported by SML derived from their dedicated [spreadsheet](https://docs.google.com/spreadsheets/u/0/d/1Iru4J7BrgufGmt6gACcHDFnVmmmP3ngf4yXklmG8zHQ/pub?output=html#), each given a unique ID that will be used to label the output scores.\n"
   ]
  },
  {
   "cell_type": "markdown",
   "metadata": {},
   "source": [
    "### Set up list to store the measures by type "
   ]
  },
  {
   "cell_type": "code",
   "execution_count": 2,
   "metadata": {},
   "outputs": [],
   "source": [
    "measures_source = 'measures_revised.csv' \n",
    "# file containing all supported measures as follows:\n",
    "\n",
    "Non_IC_pairwise_measures = [\"structure_pairwise\",  \n",
    "                           \"direct_groupwise\", \n",
    "                            \"indirect_groupwise\"] # all non-IC based measures, pairwise and groupwise\n",
    "\n",
    "IC_pairwise_measures = [\"ic_measure\",\"ic_pairwise\"] # all IC measures and IC-based pairwise measures\n",
    "\n",
    "std_pairwise_measures = [\"structure_pairwise\"] # non-IC based pairwise \n",
    "\n",
    "std_groupwise_measures = [\"direct_groupwise\", \"set_groupwise\"] # standalone groupwise; set_groupwise are all FRAMEWORK measures\n",
    "\n",
    "IC_groupwise_measures = [\"indirect_groupwise\"] # all groupwise that require a pairwise measure \n",
    "\n",
    "\n",
    "# empty xml files to be edited\n",
    "DIRECT_GROUPWISE_xml_template = \"DIRECT_GROUPWISE_MEASURES_COMBINATIONS.xml\" # standalone groupwise (no pairwise or IC)\n",
    "INDIRECT_GROUPWISE_xml_template = \"INDIRECT_GROUPWISE_MEASURES_COMBINATIONS.xml\" # indirect groupwise with non-IC pairwise\n",
    "IC_INDIRECT_GROUPWISE_xml_template = \"IC_INDIRECT_GROUPWISE_MEASURES_COMBINATIONS.xml\" # indirect groupwise with ICs and IC-based pairwise"
   ]
  },
  {
   "cell_type": "markdown",
   "metadata": {},
   "source": [
    "### Write IC measures into the relevant XML"
   ]
  },
  {
   "cell_type": "code",
   "execution_count": 4,
   "metadata": {},
   "outputs": [],
   "source": [
    "# insert all relevant <ic/> tags into the xml file IC_INDIRECT_GROUPWISE_xml_template\n",
    "\n",
    "with open(measures_source) as pairwise_IC:\n",
    "    pairwise_IC_csv = csv.reader(pairwise_IC)\n",
    "    pairwise_IC_headers = next(pairwise_IC_csv)\n",
    "    for pairwise_IC_item in pairwise_IC_csv:\n",
    "        if pairwise_IC_item[0] == \"ic_measure\": # these are all of type 'ic_measure' to include from measures_revised\n",
    "            IC_tree = ET.parse(IC_INDIRECT_GROUPWISE_xml_template)\n",
    "            IC_root = IC_tree.getroot()\n",
    "            IC_element_target = IC_root.find(\"./sml/ics\")\n",
    "            IC_new_measure = ET.SubElement(IC_element_target, 'ic', \n",
    "                                            id = pairwise_IC_item[2], \n",
    "                                            flag = pairwise_IC_item[1])\n",
    "            \n",
    "            IC_tree.write(IC_INDIRECT_GROUPWISE_xml_template)\n",
    "            "
   ]
  },
  {
   "cell_type": "markdown",
   "metadata": {},
   "source": [
    "### Write all pairwise and groupwise measures into the relevant XMLs"
   ]
  },
  {
   "cell_type": "code",
   "execution_count": 5,
   "metadata": {},
   "outputs": [],
   "source": [
    "with open(measures_source) as pairwise_IC:\n",
    "    pairwise_IC_csv = csv.reader(pairwise_IC)\n",
    "    pairwise_IC_headers = next(pairwise_IC_csv)\n",
    "    for pairwise_IC_item in pairwise_IC_csv:\n",
    "        \n",
    "        # generate the pairwise block for IC measures included\n",
    "        if pairwise_IC_item[0] == \"ic_pairwise\": # type 'ic_pairwise' will require a specified IC measure as well\n",
    "            IC_tree = ET.parse(IC_INDIRECT_GROUPWISE_xml_template)\n",
    "            IC_root = IC_tree.getroot()\n",
    "            IC_element_target = IC_root.find(\"./sml/measures/[@type='pairwise']\")\n",
    "            IC_new_measure = ET.SubElement(IC_element_target, 'measure', \n",
    "                                            id = pairwise_IC_item[2], \n",
    "                                            flag = pairwise_IC_item[1],\n",
    "                                            ic = \"[FULL_LIST_IC]\")\n",
    "                    \n",
    "            IC_tree.write(IC_INDIRECT_GROUPWISE_xml_template) # writes the IC-based pairwise into the XML with ic=[FULL_LIST_IC]\n",
    "        \n",
    "        # generate pairwise block for non-IC based standard pariwise measures\n",
    "        elif pairwise_IC_item[0] in std_pairwise_measures: \n",
    "            IC_tree = ET.parse(INDIRECT_GROUPWISE_xml_template)\n",
    "            IC_root = IC_tree.getroot()\n",
    "            \n",
    "            IC_element_target = IC_root.find(\"./sml/measures/[@type='pairwise']\")\n",
    "            \n",
    "            IC_new_measure = ET.SubElement(IC_element_target, 'measure', \n",
    "                                            id = pairwise_IC_item[2], \n",
    "                                            flag = pairwise_IC_item[1]\n",
    "                                            )\n",
    "                    \n",
    "            IC_tree.write(INDIRECT_GROUPWISE_xml_template) # writes the non-IC based pairwise into the XML\n",
    "        \n",
    "        # generate the groupwise block for standalone groupwise measures\n",
    "        elif pairwise_IC_item[0] in std_groupwise_measures: \n",
    "            IC_tree = ET.parse(DIRECT_GROUPWISE_xml_template)\n",
    "            IC_root = IC_tree.getroot()\n",
    "            \n",
    "            IC_element_target = IC_root.find(\"./sml/measures/[@type='groupwise']\")\n",
    "            \n",
    "            IC_new_measure = ET.SubElement(IC_element_target, 'measure', \n",
    "                                            id = pairwise_IC_item[2], \n",
    "                                            flag = pairwise_IC_item[1],\n",
    "                                            )\n",
    "                    \n",
    "            IC_tree.write(DIRECT_GROUPWISE_xml_template) # standalone groupwise measures written into a single XML\n",
    "        \n",
    "        # generate the groupwise block for indirect groupwise measures\n",
    "        elif pairwise_IC_item[0] in IC_groupwise_measures: \n",
    "            \n",
    "            # with [FULL_LIST_PM] of all IC-based pairwise measures                                              \n",
    "            IC_tree = ET.parse(IC_INDIRECT_GROUPWISE_xml_template)\n",
    "            IC_root = IC_tree.getroot()\n",
    "            IC_element_target = IC_root.find(\"./sml/measures/[@type='groupwise']\")\n",
    "            IC_new_measure = ET.SubElement(IC_element_target, 'measure', \n",
    "                                            id = pairwise_IC_item[2], \n",
    "                                            flag = pairwise_IC_item[1],\n",
    "                                            pairwise_measure = \"[FULL_LIST_PM]\")\n",
    "                    \n",
    "            IC_tree.write(IC_INDIRECT_GROUPWISE_xml_template) \n",
    "            \n",
    "            # with [FULL_LIST_PM] of all non-IC based pairwise measures\n",
    "            IC_tree = ET.parse(INDIRECT_GROUPWISE_xml_template)                                                                \n",
    "            IC_root = IC_tree.getroot()\n",
    "            IC_element_target = IC_root.find(\"./sml/measures/[@type='groupwise']\")\n",
    "            IC_new_measure = ET.SubElement(IC_element_target, 'measure', \n",
    "                                            id = pairwise_IC_item[2], \n",
    "                                            flag = pairwise_IC_item[1],\n",
    "                                            pairwise_measure = \"[FULL_LIST_PM]\")\n",
    "            \n",
    "            IC_tree.write(INDIRECT_GROUPWISE_xml_template)             \n",
    "       \n",
    "\n",
    "            \n"
   ]
  },
  {
   "cell_type": "markdown",
   "metadata": {},
   "source": [
    "# Note \n",
    "\n",
    "There are a few metrics available through SML that will not run in the same way as the others, as highlighted in the issues column of 'measures_revised'. \n",
    "They have been commented out of 'measures_revised', but the flags left in. \n",
    "\n",
    "You can manually create the XMLs for these using the templates and adjusting the file (unless the measure is invalid). "
   ]
  }
 ],
 "metadata": {
  "kernelspec": {
   "display_name": "Python 3",
   "language": "python",
   "name": "python3"
  },
  "language_info": {
   "codemirror_mode": {
    "name": "ipython",
    "version": 3
   },
   "file_extension": ".py",
   "mimetype": "text/x-python",
   "name": "python",
   "nbconvert_exporter": "python",
   "pygments_lexer": "ipython3",
   "version": "3.8.6"
  }
 },
 "nbformat": 4,
 "nbformat_minor": 4
}
